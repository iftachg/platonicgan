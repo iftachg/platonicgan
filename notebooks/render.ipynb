{
 "cells": [
  {
   "cell_type": "markdown",
   "metadata": {
    "pycharm": {}
   },
   "source": [
    "# Imports"
   ]
  },
  {
   "cell_type": "code",
   "execution_count": 1,
   "metadata": {},
   "outputs": [
    {
     "name": "stdout",
     "output_type": "stream",
     "text": [
      "[INFO] setup transform\n"
     ]
    }
   ],
   "source": [
    "%matplotlib inline\n",
    "\n",
    "import sys\n",
    "import os\n",
    "os.environ[\"CUDA_VISIBLE_DEVICES\"]=\"1\"\n",
    "\n",
    "# jupyter notebook cannot handle parent dir imports without this\n",
    "sys.path.append(os.path.dirname(os.getcwd()))\n",
    "\n",
    "import time\n",
    "import torch, torchvision\n",
    "import numpy as np\n",
    "import cv2\n",
    "from scripts.renderer.visual_hull import VisualHullRenderer\n",
    "from scripts.renderer.absorption_only import AbsorptionOnlyRenderer\n",
    "from scripts.renderer.emission_absorption import EmissionAbsorptionRenderer\n",
    "import scripts.renderer.transform as dt\n",
    "import scripts.utils.io as io\n",
    "import scripts.utils.utils as utils\n",
    "\n",
    "import ipywidgets as widgets\n",
    "from ipywidgets import Layout, Video\n",
    "from IPython.display import display\n",
    "\n",
    "from attrdict import AttrDict\n",
    "\n",
    "config = {'device' : 'cpu', 'data' : {'cube_len': 64}}\n",
    "param = AttrDict(config)\n",
    "transform = dt.Transform(param)\n",
    "\n",
    "# TODO update path\n",
    "path = '../scripts/tests/input_data/object.raw'"
   ]
  },
  {
   "cell_type": "markdown",
   "metadata": {},
   "source": [
    "# Options "
   ]
  },
  {
   "cell_type": "code",
   "execution_count": 2,
   "metadata": {
    "scrolled": true
   },
   "outputs": [
    {
     "data": {
      "application/vnd.jupyter.widget-view+json": {
       "model_id": "39e83828a8e6407ebf8cf36efa9c813d",
       "version_major": 2,
       "version_minor": 0
      },
      "text/plain": [
       "FloatSlider(value=0.0, description='x', max=1.0, min=-1.0)"
      ]
     },
     "metadata": {},
     "output_type": "display_data"
    },
    {
     "data": {
      "application/vnd.jupyter.widget-view+json": {
       "model_id": "629b50a33d224b98810afb089b1554d0",
       "version_major": 2,
       "version_minor": 0
      },
      "text/plain": [
       "FloatSlider(value=0.0, description='y', max=1.0, min=-1.0)"
      ]
     },
     "metadata": {},
     "output_type": "display_data"
    },
    {
     "data": {
      "application/vnd.jupyter.widget-view+json": {
       "model_id": "cbcf8a2dde4c4366bb575fc9de7e0682",
       "version_major": 2,
       "version_minor": 0
      },
      "text/plain": [
       "FloatSlider(value=-1.0, description='z', max=1.0, min=-1.0)"
      ]
     },
     "metadata": {},
     "output_type": "display_data"
    },
    {
     "data": {
      "application/vnd.jupyter.widget-view+json": {
       "model_id": "33daac4b2aab49a59646a76e0e33e9e7",
       "version_major": 2,
       "version_minor": 0
      },
      "text/plain": [
       "Select(description='Renderer:', index=2, options=('VH', 'AO', 'EA'), value='EA')"
      ]
     },
     "metadata": {},
     "output_type": "display_data"
    }
   ],
   "source": [
    "x = widgets.FloatSlider(value=0.0,min=-1,max=1,step=0.1, description='x')\n",
    "y = widgets.FloatSlider(value=0.0,min=-1,max=1,step=0.1, description='y')\n",
    "z = widgets.FloatSlider(value=-1.0,min=-1,max=1,step=0.1, description='z')\n",
    "display(x,y,z)\n",
    "\n",
    "w_renderer = widgets.Select(options=['VH', 'AO', 'EA'], value='EA',description='Renderer:')\n",
    "\n",
    "display(w_renderer)"
   ]
  },
  {
   "cell_type": "markdown",
   "metadata": {},
   "source": [
    "# Load renderer"
   ]
  },
  {
   "cell_type": "code",
   "execution_count": 7,
   "metadata": {
    "pycharm": {},
    "scrolled": false
   },
   "outputs": [],
   "source": [
    "if w_renderer.value == 'VH':\n",
    "    renderer = VisualHullRenderer(param)\n",
    "elif w_renderer.value == 'AO':\n",
    "    renderer = AbsorptionOnlyRenderer(param)\n",
    "elif w_renderer.value == 'EA':\n",
    "    renderer = EmissionAbsorptionRenderer(param)"
   ]
  },
  {
   "cell_type": "markdown",
   "metadata": {},
   "source": [
    "# Load voxels "
   ]
  },
  {
   "cell_type": "code",
   "execution_count": 8,
   "metadata": {
    "scrolled": false
   },
   "outputs": [],
   "source": [
    "volume = io.read_volume(path)\n",
    "volume = utils.numpy_to_pytorch(volume).unsqueeze(0)\n"
   ]
  },
  {
   "cell_type": "code",
   "execution_count": 9,
   "metadata": {
    "scrolled": true
   },
   "outputs": [],
   "source": [
    "vector = torch.tensor([[x.value,y.value,z.value]])\n",
    "image = renderer.render(transform.rotate_by_vector(volume, vector))\n"
   ]
  },
  {
   "cell_type": "markdown",
   "metadata": {},
   "source": [
    "### Output"
   ]
  },
  {
   "cell_type": "code",
   "execution_count": 10,
   "metadata": {
    "scrolled": false
   },
   "outputs": [
    {
     "data": {
      "application/vnd.jupyter.widget-view+json": {
       "model_id": "7f7839c4d964432ab5b8d7b427cc8e4c",
       "version_major": 2,
       "version_minor": 0
      },
      "text/plain": [
       "Image(value=b'\\x89PNG\\r\\n\\x1a\\n\\x00\\x00\\x00\\rIHDR\\x00\\x00\\x00@\\x00\\x00\\x00@\\x08\\x02\\x00\\x00\\x00%\\x0b\\xe6\\x89\\x…"
      ]
     },
     "metadata": {},
     "output_type": "display_data"
    }
   ],
   "source": [
    "def get_image(array):\n",
    "    array = torchvision.utils.make_grid(array)\n",
    "    array = utils.convert_to_int(array)\n",
    "    array = utils.pytorch_to_numpy(array, is_batch=False)\n",
    "    \n",
    "    array = cv2.cvtColor(array, cv2.COLOR_RGB2BGR)\n",
    "    _, array = cv2.imencode('.png', array)\n",
    "    array = array.tobytes()\n",
    "    image = widgets.Image(value=array,format='png',width=300,height=300)\n",
    "    return image\n",
    "\n",
    "\n",
    "display(get_image(image))"
   ]
  },
  {
   "cell_type": "code",
   "execution_count": null,
   "metadata": {},
   "outputs": [],
   "source": []
  },
  {
   "cell_type": "code",
   "execution_count": null,
   "metadata": {},
   "outputs": [],
   "source": []
  }
 ],
 "metadata": {
  "kernelspec": {
   "display_name": "Python 3",
   "language": "python",
   "name": "python3"
  },
  "language_info": {
   "codemirror_mode": {
    "name": "ipython",
    "version": 3
   },
   "file_extension": ".py",
   "mimetype": "text/x-python",
   "name": "python",
   "nbconvert_exporter": "python",
   "pygments_lexer": "ipython3",
   "version": "3.7.4"
  }
 },
 "nbformat": 4,
 "nbformat_minor": 1
}
